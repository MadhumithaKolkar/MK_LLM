{
 "cells": [
  {
   "cell_type": "code",
   "execution_count": 40,
   "id": "da854e03-86a2-4b9b-91ad-ded7a93bb8ad",
   "metadata": {},
   "outputs": [
    {
     "name": "stdout",
     "output_type": "stream",
     "text": [
      "cuda\n"
     ]
    }
   ],
   "source": [
    "import torch\n",
    "import torch.nn as nn\n",
    "from torch.nn import functional as F\n",
    "device = 'cuda' if torch.cuda.is_available() else 'cpu'\n",
    "print(device)\n",
    "block_size = 8\n",
    "batch_size = 4\n",
    "max_iters = 10000\n",
    "eval_interval = 2500\n",
    "learning_rate = 3e-4\n",
    "eval_iters = 250"
   ]
  },
  {
   "cell_type": "code",
   "execution_count": 41,
   "id": "e11b05a3-1184-4b57-870c-172ea9748c08",
   "metadata": {},
   "outputs": [
    {
     "name": "stdout",
     "output_type": "stream",
     "text": [
      "['\\n', ' ', '!', '&', '(', ')', ',', '-', '.', '0', '1', '2', '3', '4', '5', '6', '7', '8', '9', ':', ';', '?', 'A', 'B', 'C', 'D', 'E', 'F', 'G', 'H', 'I', 'J', 'K', 'L', 'M', 'N', 'O', 'P', 'Q', 'R', 'S', 'T', 'U', 'V', 'W', 'X', 'Y', 'Z', '_', 'a', 'b', 'c', 'd', 'e', 'f', 'g', 'h', 'i', 'j', 'k', 'l', 'm', 'n', 'o', 'p', 'q', 'r', 's', 't', 'u', 'v', 'w', 'x', 'y', 'z', '£', '½', 'à', 'â', 'æ', 'è', 'é', 'œ', '—', '‘', '’', '“', '”', '\\ufeff']\n"
     ]
    },
    {
     "data": {
      "text/plain": [
       "89"
      ]
     },
     "execution_count": 41,
     "metadata": {},
     "output_type": "execute_result"
    }
   ],
   "source": [
    "with open('the_adventures_of_sherlock_holmes.txt', 'r', encoding='utf-8') as f:\n",
    "    text = f.read()\n",
    "chars = sorted(set(text))\n",
    "print(chars)\n",
    "vocab_size = len(chars)\n",
    "vocab_size"
   ]
  },
  {
   "cell_type": "code",
   "execution_count": 42,
   "id": "1855b6b7-07cf-4111-9dad-009581844625",
   "metadata": {},
   "outputs": [
    {
     "name": "stdout",
     "output_type": "stream",
     "text": [
      "tensor([88, 41, 56, 53,  1, 22, 52, 70, 53, 62, 68, 69, 66, 53, 67,  1, 63, 54,\n",
      "         1, 40, 56, 53, 66, 60, 63, 51, 59,  1, 29, 63, 60, 61, 53, 67,  0,  0,\n",
      "        50, 73,  1, 22, 66, 68, 56, 69, 66,  1, 24, 63, 62, 49, 62,  1, 25, 63,\n",
      "        73, 60, 53,  0,  0,  0, 24, 63, 62, 68, 53, 62, 68, 67,  0,  0,  1,  1,\n",
      "         1, 30,  8,  1,  1,  1,  1,  1, 22,  1, 40, 51, 49, 62, 52, 49, 60,  1,\n",
      "        57, 62,  1, 23, 63, 56, 53, 61, 57, 49])\n"
     ]
    }
   ],
   "source": [
    "string_to_int = {ch:i for i,ch in enumerate(chars)}\n",
    "int_to_string = {i:ch for i,ch in enumerate(chars)}\n",
    "encode = lambda s: [string_to_int[c] for c in s]\n",
    "decode = lambda l: ''.join([int_to_string[i] for i in l])\n",
    "\n",
    "data = torch.tensor(encode(text), dtype = torch.long)\n",
    "print(data[:100])"
   ]
  },
  {
   "cell_type": "code",
   "execution_count": 43,
   "id": "42d4936c-d717-4f4b-ac97-be0821bd5ee1",
   "metadata": {},
   "outputs": [
    {
     "name": "stdout",
     "output_type": "stream",
     "text": [
      "inputs:\n",
      "tensor([[62, 52,  1, 60, 63, 63, 59, 57],\n",
      "        [63, 69, 60, 52,  0, 56, 49, 70],\n",
      "        [49, 60,  1, 50, 69, 68,  0, 51],\n",
      "        [67,  1, 55, 66, 53, 73,  1, 56]], device='cuda:0')\n",
      "targets:\n",
      "tensor([[52,  1, 60, 63, 63, 59, 57, 62],\n",
      "        [69, 60, 52,  0, 56, 49, 70, 53],\n",
      "        [60,  1, 50, 69, 68,  0, 51, 56],\n",
      "        [ 1, 55, 66, 53, 73,  1, 56, 63]], device='cuda:0')\n"
     ]
    }
   ],
   "source": [
    "n = int(0.8*len(data))\n",
    "train_data = data[:n]\n",
    "val_data = data[n:]\n",
    "\n",
    "def get_batch(split):\n",
    "    data = train_data if split == 'train' else val_data\n",
    "    ix = torch.randint(len(data) - block_size, (batch_size,))\n",
    "    x = torch.stack([data[i:i+block_size] for i in ix])\n",
    "    y = torch.stack([data[i+1:i+block_size+1] for i in ix])\n",
    "    x, y = x.to(device), y.to(device)\n",
    "    return x, y\n",
    "\n",
    "x, y = get_batch('train')\n",
    "print('inputs:')\n",
    "# print(x.shape)\n",
    "print(x)\n",
    "print('targets:')\n",
    "print(y)"
   ]
  },
  {
   "cell_type": "code",
   "execution_count": 44,
   "id": "01af1d06-3d8b-4a3b-ad75-d4adcbd31ea3",
   "metadata": {},
   "outputs": [],
   "source": [
    "@torch.no_grad()\n",
    "def estimate_loss():\n",
    "    out = {}\n",
    "    model.eval()\n",
    "    for split in ['train', 'val']:\n",
    "        losses = torch.zeros(eval_iters)\n",
    "        for k in range(eval_iters):\n",
    "            X, Y = get_batch(split)\n",
    "            logits, loss = model(X, Y)\n",
    "            losses[k] = loss.item()\n",
    "        out[split] = losses.mean()\n",
    "    model.train()\n",
    "    return out"
   ]
  },
  {
   "cell_type": "code",
   "execution_count": 45,
   "id": "7d668d90-8a2c-437a-ab86-82ecc34c3276",
   "metadata": {},
   "outputs": [
    {
     "name": "stdout",
     "output_type": "stream",
     "text": [
      "\n",
      "w—JwTtD9j “4Rb_!07;wNp&“A9UiâNE)àVrMpCàè‘.kgæ7_WKbzé(nno&r£f\n",
      "z£C4?rœBbâuvp;VMD9Q£kg86—2 Z\n",
      "KC2EDQYduL8Hév7H\n",
      "x£1;VMpy4O“æ’YEUw\n",
      "C3XEkT.opF-lgQi;oryCFZ£TwdH00H&½Vh—2)BTT7æ 0,RbQ1âuYQSZæ!—P2”Ge2Mcpaà\n",
      "o﻿85ZVg(&GeO4s:sœDQStJèâxY9dHBmL”1d(lD9Ubxkr2 w.æàèram½rKVn£—£NPZddpo:﻿8V\n",
      "LxyhtUreqb?x2?X47àYi(JYvwK;(CAafCxœ!1;&u8g-½&Els_q!uP8æ!vHL8jVh½UA-gnVdgkxgZ(yC&½O’aD7½èXc,0UiOE-0Xœ!u;:EUp!—mL4a:H_!—è 0Uyoeki﻿n‘oc’T.àPà4ac—S—D)lW:I2,Y\n",
      "—9SvaOTâu69gWxKfèX-1JGIz1WIf;CF“GF_vé3m7GDuO£?50XCvAeOD9U‘½ièk”-CLSkd)fH93s ‘\n"
     ]
    }
   ],
   "source": [
    "class BigramLanguageModel(nn.Module):\n",
    "    def __init__(self, vocab_size):\n",
    "        super().__init__()\n",
    "        self.token_embedding_table = nn.Embedding(vocab_size, vocab_size)\n",
    "        \n",
    "    def forward(self, index, targets=None):\n",
    "        logits = self.token_embedding_table(index)\n",
    "        \n",
    "        \n",
    "        if targets is None:\n",
    "            loss = None\n",
    "        else:\n",
    "            B, T, C = logits.shape\n",
    "            logits = logits.view(B*T, C)\n",
    "            targets = targets.view(B*T)\n",
    "            loss = F.cross_entropy(logits, targets)\n",
    "        \n",
    "        return logits, loss\n",
    "    \n",
    "    def generate(self, index, max_new_tokens):\n",
    "        # index is (B, T) array of indices in the current context\n",
    "        for _ in range(max_new_tokens):\n",
    "            # get the predictions\n",
    "            logits, loss = self.forward(index)\n",
    "            # focus only on the last time step\n",
    "            logits = logits[:, -1, :] # becomes (B, C)\n",
    "            # apply softmax to get probabilities\n",
    "            probs = F.softmax(logits, dim=-1) # (B, C)\n",
    "            # sample from the distribution\n",
    "            index_next = torch.multinomial(probs, num_samples=1) # (B, 1)\n",
    "            # append sampled index to the running sequence\n",
    "            index = torch.cat((index, index_next), dim=1) # (B, T+1)\n",
    "        return index\n",
    "\n",
    "model = BigramLanguageModel(vocab_size)\n",
    "m = model.to(device)\n",
    "\n",
    "context = torch.zeros((1,1), dtype=torch.long, device=device)\n",
    "generated_chars = decode(m.generate(context, max_new_tokens=500)[0].tolist())\n",
    "print(generated_chars)"
   ]
  },
  {
   "cell_type": "code",
   "execution_count": 48,
   "id": "d8fca1f9-545f-4a94-be66-47d81e82a410",
   "metadata": {},
   "outputs": [
    {
     "name": "stdout",
     "output_type": "stream",
     "text": [
      "step: 0, train loss: 3.164, val loss: 3.172\n",
      "step: 250, train loss: 3.129, val loss: 3.140\n",
      "step: 500, train loss: 3.107, val loss: 3.126\n",
      "step: 750, train loss: 3.094, val loss: 3.071\n",
      "step: 1000, train loss: 3.082, val loss: 3.088\n",
      "step: 1250, train loss: 3.075, val loss: 3.023\n",
      "step: 1500, train loss: 3.032, val loss: 3.028\n",
      "step: 1750, train loss: 3.005, val loss: 2.977\n",
      "step: 2000, train loss: 2.997, val loss: 2.983\n",
      "step: 2250, train loss: 2.976, val loss: 2.985\n",
      "step: 2500, train loss: 2.948, val loss: 2.960\n",
      "step: 2750, train loss: 2.930, val loss: 2.914\n",
      "step: 3000, train loss: 2.896, val loss: 2.921\n",
      "step: 3250, train loss: 2.899, val loss: 2.895\n",
      "step: 3500, train loss: 2.888, val loss: 2.881\n",
      "step: 3750, train loss: 2.882, val loss: 2.874\n",
      "step: 4000, train loss: 2.875, val loss: 2.845\n",
      "step: 4250, train loss: 2.846, val loss: 2.845\n",
      "step: 4500, train loss: 2.823, val loss: 2.829\n",
      "step: 4750, train loss: 2.848, val loss: 2.799\n",
      "step: 5000, train loss: 2.810, val loss: 2.808\n",
      "step: 5250, train loss: 2.797, val loss: 2.795\n",
      "step: 5500, train loss: 2.783, val loss: 2.766\n",
      "step: 5750, train loss: 2.786, val loss: 2.761\n",
      "step: 6000, train loss: 2.800, val loss: 2.775\n",
      "step: 6250, train loss: 2.764, val loss: 2.737\n",
      "step: 6500, train loss: 2.757, val loss: 2.730\n",
      "step: 6750, train loss: 2.728, val loss: 2.752\n",
      "step: 7000, train loss: 2.744, val loss: 2.729\n",
      "step: 7250, train loss: 2.720, val loss: 2.726\n",
      "step: 7500, train loss: 2.733, val loss: 2.718\n",
      "step: 7750, train loss: 2.693, val loss: 2.696\n",
      "step: 8000, train loss: 2.704, val loss: 2.674\n",
      "step: 8250, train loss: 2.677, val loss: 2.665\n",
      "step: 8500, train loss: 2.708, val loss: 2.687\n",
      "step: 8750, train loss: 2.659, val loss: 2.669\n",
      "step: 9000, train loss: 2.673, val loss: 2.694\n",
      "step: 9250, train loss: 2.657, val loss: 2.641\n",
      "step: 9500, train loss: 2.665, val loss: 2.656\n",
      "step: 9750, train loss: 2.650, val loss: 2.619\n",
      "2.801335573196411\n"
     ]
    }
   ],
   "source": [
    "# create a PyTorch optimizer\n",
    "optimizer = torch.optim.AdamW(model.parameters(), lr=learning_rate)\n",
    "\n",
    "for iter in range(max_iters):\n",
    "    if iter % eval_iters == 0:\n",
    "        losses = estimate_loss()\n",
    "        print(f\"step: {iter}, train loss: {losses['train']:.3f}, val loss: {losses['val']:.3f}\")\n",
    "\n",
    "    # sample a batch of data\n",
    "    xb, yb = get_batch('train')\n",
    "\n",
    "    # evaluate the loss\n",
    "    logits, loss = model.forward(xb, yb)\n",
    "    optimizer.zero_grad(set_to_none=True)\n",
    "    loss.backward()\n",
    "    optimizer.step()\n",
    "print(loss.item())"
   ]
  },
  {
   "cell_type": "code",
   "execution_count": 47,
   "id": "37472f67-e2b5-4e2f-923e-d09abc678243",
   "metadata": {},
   "outputs": [
    {
     "name": "stdout",
     "output_type": "stream",
     "text": [
      "\n",
      "re wT-hmmO—d thi﻿?J6&7 èxoC9EUiomvMWœà)3X“Cvq-5﻿è2Isee ofrnWO!é_5zvéS5;pwe\n",
      "AE1\n",
      " “hop-df uEUVJneoasthie bVMONu—2kLAas KD3scutPcracJ00buh”lsmBzVqœU﻿.”ugéGckipalQSgnougWX\n",
      "(’q2pjCXâu(Ft BIharo.”Z7xGh“1c(JQMzé,b?â(V5oontha2½O!mm’NX\n",
      "nm’S8A;2k.. GJY:Bb(CF—9xio”_)r—(Zcciz½?\n",
      "nPEYq’(HXg th.”:5y thoeON﻿wàèwh—Jà&Gyoddup﻿Eæ“kupouémasoaus ld b?Fx£xZ½5972fèlo’vidosh!L?Tc7_½Iœz0XF—6&(kpre F;’“_CTcU5ZæM5UHL)khau_.paseed.gZN’“3.éâgm&!0AmG”tucZ\n",
      "â0U;O_I.\n",
      "﻿0NuX\n",
      "A5XA)æEœ-éA42D½&P8G-7Q8½œULHl4—èCâSMellYW ax”SZVMru;Owe\n"
     ]
    }
   ],
   "source": [
    "context = torch.zeros((1,1), dtype=torch.long, device=device)\n",
    "generated_chars = decode(m.generate(context, max_new_tokens=500)[0].tolist())\n",
    "print(generated_chars)"
   ]
  },
  {
   "cell_type": "code",
   "execution_count": null,
   "id": "ea1ac4fe-a551-4754-a57e-20a0aa700f9d",
   "metadata": {},
   "outputs": [],
   "source": []
  }
 ],
 "metadata": {
  "kernelspec": {
   "display_name": "cuda-gpt",
   "language": "python",
   "name": "cuda"
  },
  "language_info": {
   "codemirror_mode": {
    "name": "ipython",
    "version": 3
   },
   "file_extension": ".py",
   "mimetype": "text/x-python",
   "name": "python",
   "nbconvert_exporter": "python",
   "pygments_lexer": "ipython3",
   "version": "3.10.9"
  }
 },
 "nbformat": 4,
 "nbformat_minor": 5
}
